{
  "nbformat": 4,
  "nbformat_minor": 0,
  "metadata": {
    "colab": {
      "name": "cardio.ipynb",
      "provenance": [],
      "collapsed_sections": []
    },
    "kernelspec": {
      "name": "python3",
      "display_name": "Python 3"
    }
  },
  "cells": [
    {
      "cell_type": "code",
      "metadata": {
        "id": "iWOdjBHkcEBu",
        "colab_type": "code",
        "colab": {
          "base_uri": "https://localhost:8080/",
          "height": 119
        },
        "outputId": "96ebaec7-7a75-4137-bd93-c00b28efb3c4"
      },
      "source": [
        "!git clone https://github.com/MaxSoloAT/cardio_pd.git "
      ],
      "execution_count": 1,
      "outputs": [
        {
          "output_type": "stream",
          "text": [
            "Cloning into 'cardio_pd'...\n",
            "remote: Enumerating objects: 3, done.\u001b[K\n",
            "remote: Counting objects: 100% (3/3), done.\u001b[K\n",
            "remote: Compressing objects: 100% (2/2), done.\u001b[K\n",
            "remote: Total 3 (delta 0), reused 0 (delta 0), pack-reused 0\u001b[K\n",
            "Unpacking objects: 100% (3/3), done.\n"
          ],
          "name": "stdout"
        }
      ]
    },
    {
      "cell_type": "code",
      "metadata": {
        "id": "KLur9rb6VqDu",
        "colab_type": "code",
        "colab": {
          "base_uri": "https://localhost:8080/",
          "height": 51
        },
        "outputId": "4e7cad26-985f-4112-b016-1c8389baf1b3"
      },
      "source": [
        "# Імпорт бібліотек.\n",
        "import numpy as np \n",
        "import pandas as pd \n",
        "import matplotlib.pyplot as plt\n",
        "import seaborn as sns\n",
        "sns.set(); "
      ],
      "execution_count": 2,
      "outputs": [
        {
          "output_type": "stream",
          "text": [
            "/usr/local/lib/python3.6/dist-packages/statsmodels/tools/_testing.py:19: FutureWarning: pandas.util.testing is deprecated. Use the functions in the public API at pandas.testing instead.\n",
            "  import pandas.util.testing as tm\n"
          ],
          "name": "stderr"
        }
      ]
    },
    {
      "cell_type": "code",
      "metadata": {
        "id": "LPhjaKBRW5QL",
        "colab_type": "code",
        "colab": {}
      },
      "source": [
        "df = pd.read_csv('./cardio_pd/cardio_train.csv', sep=';') # Завантаження інформації з csv."
      ],
      "execution_count": 0,
      "outputs": []
    },
    {
      "cell_type": "code",
      "metadata": {
        "id": "6NwVXtZaW5Xa",
        "colab_type": "code",
        "colab": {
          "base_uri": "https://localhost:8080/",
          "height": 452
        },
        "outputId": "e7b432dd-c669-4f3a-bf68-634d0362d30a"
      },
      "source": [
        "df.head(10).T # Візуалізація інформації у вигляді таблиці."
      ],
      "execution_count": 4,
      "outputs": [
        {
          "output_type": "execute_result",
          "data": {
            "text/html": [
              "<div>\n",
              "<style scoped>\n",
              "    .dataframe tbody tr th:only-of-type {\n",
              "        vertical-align: middle;\n",
              "    }\n",
              "\n",
              "    .dataframe tbody tr th {\n",
              "        vertical-align: top;\n",
              "    }\n",
              "\n",
              "    .dataframe thead th {\n",
              "        text-align: right;\n",
              "    }\n",
              "</style>\n",
              "<table border=\"1\" class=\"dataframe\">\n",
              "  <thead>\n",
              "    <tr style=\"text-align: right;\">\n",
              "      <th></th>\n",
              "      <th>0</th>\n",
              "      <th>1</th>\n",
              "      <th>2</th>\n",
              "      <th>3</th>\n",
              "      <th>4</th>\n",
              "      <th>5</th>\n",
              "      <th>6</th>\n",
              "      <th>7</th>\n",
              "      <th>8</th>\n",
              "      <th>9</th>\n",
              "    </tr>\n",
              "  </thead>\n",
              "  <tbody>\n",
              "    <tr>\n",
              "      <th>id</th>\n",
              "      <td>0.0</td>\n",
              "      <td>1.0</td>\n",
              "      <td>2.0</td>\n",
              "      <td>3.0</td>\n",
              "      <td>4.0</td>\n",
              "      <td>8.0</td>\n",
              "      <td>9.0</td>\n",
              "      <td>12.0</td>\n",
              "      <td>13.0</td>\n",
              "      <td>14.0</td>\n",
              "    </tr>\n",
              "    <tr>\n",
              "      <th>age</th>\n",
              "      <td>18393.0</td>\n",
              "      <td>20228.0</td>\n",
              "      <td>18857.0</td>\n",
              "      <td>17623.0</td>\n",
              "      <td>17474.0</td>\n",
              "      <td>21914.0</td>\n",
              "      <td>22113.0</td>\n",
              "      <td>22584.0</td>\n",
              "      <td>17668.0</td>\n",
              "      <td>19834.0</td>\n",
              "    </tr>\n",
              "    <tr>\n",
              "      <th>gender</th>\n",
              "      <td>2.0</td>\n",
              "      <td>1.0</td>\n",
              "      <td>1.0</td>\n",
              "      <td>2.0</td>\n",
              "      <td>1.0</td>\n",
              "      <td>1.0</td>\n",
              "      <td>1.0</td>\n",
              "      <td>2.0</td>\n",
              "      <td>1.0</td>\n",
              "      <td>1.0</td>\n",
              "    </tr>\n",
              "    <tr>\n",
              "      <th>height</th>\n",
              "      <td>168.0</td>\n",
              "      <td>156.0</td>\n",
              "      <td>165.0</td>\n",
              "      <td>169.0</td>\n",
              "      <td>156.0</td>\n",
              "      <td>151.0</td>\n",
              "      <td>157.0</td>\n",
              "      <td>178.0</td>\n",
              "      <td>158.0</td>\n",
              "      <td>164.0</td>\n",
              "    </tr>\n",
              "    <tr>\n",
              "      <th>weight</th>\n",
              "      <td>62.0</td>\n",
              "      <td>85.0</td>\n",
              "      <td>64.0</td>\n",
              "      <td>82.0</td>\n",
              "      <td>56.0</td>\n",
              "      <td>67.0</td>\n",
              "      <td>93.0</td>\n",
              "      <td>95.0</td>\n",
              "      <td>71.0</td>\n",
              "      <td>68.0</td>\n",
              "    </tr>\n",
              "    <tr>\n",
              "      <th>ap_hi</th>\n",
              "      <td>110.0</td>\n",
              "      <td>140.0</td>\n",
              "      <td>130.0</td>\n",
              "      <td>150.0</td>\n",
              "      <td>100.0</td>\n",
              "      <td>120.0</td>\n",
              "      <td>130.0</td>\n",
              "      <td>130.0</td>\n",
              "      <td>110.0</td>\n",
              "      <td>110.0</td>\n",
              "    </tr>\n",
              "    <tr>\n",
              "      <th>ap_lo</th>\n",
              "      <td>80.0</td>\n",
              "      <td>90.0</td>\n",
              "      <td>70.0</td>\n",
              "      <td>100.0</td>\n",
              "      <td>60.0</td>\n",
              "      <td>80.0</td>\n",
              "      <td>80.0</td>\n",
              "      <td>90.0</td>\n",
              "      <td>70.0</td>\n",
              "      <td>60.0</td>\n",
              "    </tr>\n",
              "    <tr>\n",
              "      <th>cholesterol</th>\n",
              "      <td>1.0</td>\n",
              "      <td>3.0</td>\n",
              "      <td>3.0</td>\n",
              "      <td>1.0</td>\n",
              "      <td>1.0</td>\n",
              "      <td>2.0</td>\n",
              "      <td>3.0</td>\n",
              "      <td>3.0</td>\n",
              "      <td>1.0</td>\n",
              "      <td>1.0</td>\n",
              "    </tr>\n",
              "    <tr>\n",
              "      <th>gluc</th>\n",
              "      <td>1.0</td>\n",
              "      <td>1.0</td>\n",
              "      <td>1.0</td>\n",
              "      <td>1.0</td>\n",
              "      <td>1.0</td>\n",
              "      <td>2.0</td>\n",
              "      <td>1.0</td>\n",
              "      <td>3.0</td>\n",
              "      <td>1.0</td>\n",
              "      <td>1.0</td>\n",
              "    </tr>\n",
              "    <tr>\n",
              "      <th>smoke</th>\n",
              "      <td>0.0</td>\n",
              "      <td>0.0</td>\n",
              "      <td>0.0</td>\n",
              "      <td>0.0</td>\n",
              "      <td>0.0</td>\n",
              "      <td>0.0</td>\n",
              "      <td>0.0</td>\n",
              "      <td>0.0</td>\n",
              "      <td>0.0</td>\n",
              "      <td>0.0</td>\n",
              "    </tr>\n",
              "    <tr>\n",
              "      <th>alco</th>\n",
              "      <td>0.0</td>\n",
              "      <td>0.0</td>\n",
              "      <td>0.0</td>\n",
              "      <td>0.0</td>\n",
              "      <td>0.0</td>\n",
              "      <td>0.0</td>\n",
              "      <td>0.0</td>\n",
              "      <td>0.0</td>\n",
              "      <td>0.0</td>\n",
              "      <td>0.0</td>\n",
              "    </tr>\n",
              "    <tr>\n",
              "      <th>active</th>\n",
              "      <td>1.0</td>\n",
              "      <td>1.0</td>\n",
              "      <td>0.0</td>\n",
              "      <td>1.0</td>\n",
              "      <td>0.0</td>\n",
              "      <td>0.0</td>\n",
              "      <td>1.0</td>\n",
              "      <td>1.0</td>\n",
              "      <td>1.0</td>\n",
              "      <td>0.0</td>\n",
              "    </tr>\n",
              "    <tr>\n",
              "      <th>cardio</th>\n",
              "      <td>0.0</td>\n",
              "      <td>1.0</td>\n",
              "      <td>1.0</td>\n",
              "      <td>1.0</td>\n",
              "      <td>0.0</td>\n",
              "      <td>0.0</td>\n",
              "      <td>0.0</td>\n",
              "      <td>1.0</td>\n",
              "      <td>0.0</td>\n",
              "      <td>0.0</td>\n",
              "    </tr>\n",
              "  </tbody>\n",
              "</table>\n",
              "</div>"
            ],
            "text/plain": [
              "                   0        1        2  ...        7        8        9\n",
              "id               0.0      1.0      2.0  ...     12.0     13.0     14.0\n",
              "age          18393.0  20228.0  18857.0  ...  22584.0  17668.0  19834.0\n",
              "gender           2.0      1.0      1.0  ...      2.0      1.0      1.0\n",
              "height         168.0    156.0    165.0  ...    178.0    158.0    164.0\n",
              "weight          62.0     85.0     64.0  ...     95.0     71.0     68.0\n",
              "ap_hi          110.0    140.0    130.0  ...    130.0    110.0    110.0\n",
              "ap_lo           80.0     90.0     70.0  ...     90.0     70.0     60.0\n",
              "cholesterol      1.0      3.0      3.0  ...      3.0      1.0      1.0\n",
              "gluc             1.0      1.0      1.0  ...      3.0      1.0      1.0\n",
              "smoke            0.0      0.0      0.0  ...      0.0      0.0      0.0\n",
              "alco             0.0      0.0      0.0  ...      0.0      0.0      0.0\n",
              "active           1.0      1.0      0.0  ...      1.0      1.0      0.0\n",
              "cardio           0.0      1.0      1.0  ...      1.0      0.0      0.0\n",
              "\n",
              "[13 rows x 10 columns]"
            ]
          },
          "metadata": {
            "tags": []
          },
          "execution_count": 4
        }
      ]
    },
    {
      "cell_type": "code",
      "metadata": {
        "id": "H3K_HMnVW5cS",
        "colab_type": "code",
        "colab": {
          "base_uri": "https://localhost:8080/",
          "height": 452
        },
        "outputId": "645a7c4c-4844-4392-f018-28a2256a4df9"
      },
      "source": [
        "df.describe().T # Статистика по кожному числовому признаку."
      ],
      "execution_count": 5,
      "outputs": [
        {
          "output_type": "execute_result",
          "data": {
            "text/html": [
              "<div>\n",
              "<style scoped>\n",
              "    .dataframe tbody tr th:only-of-type {\n",
              "        vertical-align: middle;\n",
              "    }\n",
              "\n",
              "    .dataframe tbody tr th {\n",
              "        vertical-align: top;\n",
              "    }\n",
              "\n",
              "    .dataframe thead th {\n",
              "        text-align: right;\n",
              "    }\n",
              "</style>\n",
              "<table border=\"1\" class=\"dataframe\">\n",
              "  <thead>\n",
              "    <tr style=\"text-align: right;\">\n",
              "      <th></th>\n",
              "      <th>count</th>\n",
              "      <th>mean</th>\n",
              "      <th>std</th>\n",
              "      <th>min</th>\n",
              "      <th>25%</th>\n",
              "      <th>50%</th>\n",
              "      <th>75%</th>\n",
              "      <th>max</th>\n",
              "    </tr>\n",
              "  </thead>\n",
              "  <tbody>\n",
              "    <tr>\n",
              "      <th>id</th>\n",
              "      <td>70000.0</td>\n",
              "      <td>49972.419900</td>\n",
              "      <td>28851.302323</td>\n",
              "      <td>0.0</td>\n",
              "      <td>25006.75</td>\n",
              "      <td>50001.5</td>\n",
              "      <td>74889.25</td>\n",
              "      <td>99999.0</td>\n",
              "    </tr>\n",
              "    <tr>\n",
              "      <th>age</th>\n",
              "      <td>70000.0</td>\n",
              "      <td>19468.865814</td>\n",
              "      <td>2467.251667</td>\n",
              "      <td>10798.0</td>\n",
              "      <td>17664.00</td>\n",
              "      <td>19703.0</td>\n",
              "      <td>21327.00</td>\n",
              "      <td>23713.0</td>\n",
              "    </tr>\n",
              "    <tr>\n",
              "      <th>gender</th>\n",
              "      <td>70000.0</td>\n",
              "      <td>1.349571</td>\n",
              "      <td>0.476838</td>\n",
              "      <td>1.0</td>\n",
              "      <td>1.00</td>\n",
              "      <td>1.0</td>\n",
              "      <td>2.00</td>\n",
              "      <td>2.0</td>\n",
              "    </tr>\n",
              "    <tr>\n",
              "      <th>height</th>\n",
              "      <td>70000.0</td>\n",
              "      <td>164.359229</td>\n",
              "      <td>8.210126</td>\n",
              "      <td>55.0</td>\n",
              "      <td>159.00</td>\n",
              "      <td>165.0</td>\n",
              "      <td>170.00</td>\n",
              "      <td>250.0</td>\n",
              "    </tr>\n",
              "    <tr>\n",
              "      <th>weight</th>\n",
              "      <td>70000.0</td>\n",
              "      <td>74.205690</td>\n",
              "      <td>14.395757</td>\n",
              "      <td>10.0</td>\n",
              "      <td>65.00</td>\n",
              "      <td>72.0</td>\n",
              "      <td>82.00</td>\n",
              "      <td>200.0</td>\n",
              "    </tr>\n",
              "    <tr>\n",
              "      <th>ap_hi</th>\n",
              "      <td>70000.0</td>\n",
              "      <td>128.817286</td>\n",
              "      <td>154.011419</td>\n",
              "      <td>-150.0</td>\n",
              "      <td>120.00</td>\n",
              "      <td>120.0</td>\n",
              "      <td>140.00</td>\n",
              "      <td>16020.0</td>\n",
              "    </tr>\n",
              "    <tr>\n",
              "      <th>ap_lo</th>\n",
              "      <td>70000.0</td>\n",
              "      <td>96.630414</td>\n",
              "      <td>188.472530</td>\n",
              "      <td>-70.0</td>\n",
              "      <td>80.00</td>\n",
              "      <td>80.0</td>\n",
              "      <td>90.00</td>\n",
              "      <td>11000.0</td>\n",
              "    </tr>\n",
              "    <tr>\n",
              "      <th>cholesterol</th>\n",
              "      <td>70000.0</td>\n",
              "      <td>1.366871</td>\n",
              "      <td>0.680250</td>\n",
              "      <td>1.0</td>\n",
              "      <td>1.00</td>\n",
              "      <td>1.0</td>\n",
              "      <td>2.00</td>\n",
              "      <td>3.0</td>\n",
              "    </tr>\n",
              "    <tr>\n",
              "      <th>gluc</th>\n",
              "      <td>70000.0</td>\n",
              "      <td>1.226457</td>\n",
              "      <td>0.572270</td>\n",
              "      <td>1.0</td>\n",
              "      <td>1.00</td>\n",
              "      <td>1.0</td>\n",
              "      <td>1.00</td>\n",
              "      <td>3.0</td>\n",
              "    </tr>\n",
              "    <tr>\n",
              "      <th>smoke</th>\n",
              "      <td>70000.0</td>\n",
              "      <td>0.088129</td>\n",
              "      <td>0.283484</td>\n",
              "      <td>0.0</td>\n",
              "      <td>0.00</td>\n",
              "      <td>0.0</td>\n",
              "      <td>0.00</td>\n",
              "      <td>1.0</td>\n",
              "    </tr>\n",
              "    <tr>\n",
              "      <th>alco</th>\n",
              "      <td>70000.0</td>\n",
              "      <td>0.053771</td>\n",
              "      <td>0.225568</td>\n",
              "      <td>0.0</td>\n",
              "      <td>0.00</td>\n",
              "      <td>0.0</td>\n",
              "      <td>0.00</td>\n",
              "      <td>1.0</td>\n",
              "    </tr>\n",
              "    <tr>\n",
              "      <th>active</th>\n",
              "      <td>70000.0</td>\n",
              "      <td>0.803729</td>\n",
              "      <td>0.397179</td>\n",
              "      <td>0.0</td>\n",
              "      <td>1.00</td>\n",
              "      <td>1.0</td>\n",
              "      <td>1.00</td>\n",
              "      <td>1.0</td>\n",
              "    </tr>\n",
              "    <tr>\n",
              "      <th>cardio</th>\n",
              "      <td>70000.0</td>\n",
              "      <td>0.499700</td>\n",
              "      <td>0.500003</td>\n",
              "      <td>0.0</td>\n",
              "      <td>0.00</td>\n",
              "      <td>0.0</td>\n",
              "      <td>1.00</td>\n",
              "      <td>1.0</td>\n",
              "    </tr>\n",
              "  </tbody>\n",
              "</table>\n",
              "</div>"
            ],
            "text/plain": [
              "               count          mean           std  ...      50%       75%      max\n",
              "id           70000.0  49972.419900  28851.302323  ...  50001.5  74889.25  99999.0\n",
              "age          70000.0  19468.865814   2467.251667  ...  19703.0  21327.00  23713.0\n",
              "gender       70000.0      1.349571      0.476838  ...      1.0      2.00      2.0\n",
              "height       70000.0    164.359229      8.210126  ...    165.0    170.00    250.0\n",
              "weight       70000.0     74.205690     14.395757  ...     72.0     82.00    200.0\n",
              "ap_hi        70000.0    128.817286    154.011419  ...    120.0    140.00  16020.0\n",
              "ap_lo        70000.0     96.630414    188.472530  ...     80.0     90.00  11000.0\n",
              "cholesterol  70000.0      1.366871      0.680250  ...      1.0      2.00      3.0\n",
              "gluc         70000.0      1.226457      0.572270  ...      1.0      1.00      3.0\n",
              "smoke        70000.0      0.088129      0.283484  ...      0.0      0.00      1.0\n",
              "alco         70000.0      0.053771      0.225568  ...      0.0      0.00      1.0\n",
              "active       70000.0      0.803729      0.397179  ...      1.0      1.00      1.0\n",
              "cardio       70000.0      0.499700      0.500003  ...      0.0      1.00      1.0\n",
              "\n",
              "[13 rows x 8 columns]"
            ]
          },
          "metadata": {
            "tags": []
          },
          "execution_count": 5
        }
      ]
    },
    {
      "cell_type": "code",
      "metadata": {
        "id": "TxgjAq_tW5e8",
        "colab_type": "code",
        "colab": {
          "base_uri": "https://localhost:8080/",
          "height": 68
        },
        "outputId": "2e3b04a5-be56-4986-aca7-21157a95ed61"
      },
      "source": [
        "df['cardio'].value_counts() # Кількість здорових та хворих."
      ],
      "execution_count": 6,
      "outputs": [
        {
          "output_type": "execute_result",
          "data": {
            "text/plain": [
              "0    35021\n",
              "1    34979\n",
              "Name: cardio, dtype: int64"
            ]
          },
          "metadata": {
            "tags": []
          },
          "execution_count": 6
        }
      ]
    },
    {
      "cell_type": "code",
      "metadata": {
        "id": "fHeinerIXDY1",
        "colab_type": "code",
        "colab": {
          "base_uri": "https://localhost:8080/",
          "height": 68
        },
        "outputId": "5881366f-ebeb-46f4-e812-caa883d67907"
      },
      "source": [
        "df['cardio'].value_counts(normalize=True) # Те саме що і зверху але у %."
      ],
      "execution_count": 7,
      "outputs": [
        {
          "output_type": "execute_result",
          "data": {
            "text/plain": [
              "0    0.5003\n",
              "1    0.4997\n",
              "Name: cardio, dtype: float64"
            ]
          },
          "metadata": {
            "tags": []
          },
          "execution_count": 7
        }
      ]
    },
    {
      "cell_type": "markdown",
      "metadata": {
        "id": "Zbc0-8NCjOsD",
        "colab_type": "text"
      },
      "source": [
        "**Візуалізація** \"*ФІЧ*\""
      ]
    },
    {
      "cell_type": "code",
      "metadata": {
        "id": "K6BeOV0WXDbC",
        "colab_type": "code",
        "colab": {
          "base_uri": "https://localhost:8080/",
          "height": 268
        },
        "outputId": "2bc2d9bc-3523-4e94-bb10-1f6333f770d7"
      },
      "source": [
        "df['height'].hist(); # Розподіл значень зросту пацієнтів. Теорія стверджує, що зростання - величина, зазвичай має нормальний розподіл."
      ],
      "execution_count": 8,
      "outputs": [
        {
          "output_type": "display_data",
          "data": {
            "image/png": "[encoded data removed]",
            "text/plain": [
              "<Figure size 432x288 with 1 Axes>"
            ]
          },
          "metadata": {
            "tags": []
          }
        }
      ]
    },
    {
      "cell_type": "code",
      "metadata": {
        "id": "BGWyfe8jXDdN",
        "colab_type": "code",
        "colab": {
          "base_uri": "https://localhost:8080/",
          "height": 268
        },
        "outputId": "8f644b70-20f9-4d17-9989-3f35f5c2935e"
      },
      "source": [
        "df['height'].hist(bins=20); # Покращена статистика "
      ],
      "execution_count": 9,
      "outputs": [
        {
          "output_type": "display_data",
          "data": {
            "image/png": "[encoded data removed]",
            "text/plain": [
              "<Figure size 432x288 with 1 Axes>"
            ]
          },
          "metadata": {
            "tags": []
          }
        }
      ]
    },
    {
      "cell_type": "code",
      "metadata": {
        "id": "vCuKxNLnXDfr",
        "colab_type": "code",
        "colab": {
          "base_uri": "https://localhost:8080/",
          "height": 285
        },
        "outputId": "0ef0c295-4352-49e1-b6f6-833a5f02e303"
      },
      "source": [
        "sns.boxplot(df['height']);\n",
        "# Ширина \"ящика\" дорівнює інтерквантільному розмаху (різниця між третім Q3 і першим Q1 квартилями).\n",
        "# Вертикальна лінія всередині ящика показує медіану (другий квартиль).\n",
        "# \"Вусики\" обмежують точки, що потрапляють в інтервал [Q1-1.5 * IQR; Q3 + 1.5 * IQR], де IQR - інтерквартільний розмах.\n",
        "# Нарешті, окремі точки на графіку відповідають викидам - нетиповим для даної вибірки значень. Як бачимо, їх виявилося досить багато."
      ],
      "execution_count": 10,
      "outputs": [
        {
          "output_type": "display_data",
          "data": {
            "image/png": "[encoded data removed]",
            "text/plain": [
              "<Figure size 432x288 with 1 Axes>"
            ]
          },
          "metadata": {
            "tags": []
          }
        }
      ]
    },
    {
      "cell_type": "code",
      "metadata": {
        "id": "T3X9h4ZrXDiH",
        "colab_type": "code",
        "colab": {}
      },
      "source": [
        "df['age'] = (df['age'] / 365).round()"
      ],
      "execution_count": 0,
      "outputs": []
    },
    {
      "cell_type": "code",
      "metadata": {
        "id": "DN2BKst7XDky",
        "colab_type": "code",
        "colab": {
          "base_uri": "https://localhost:8080/",
          "height": 85
        },
        "outputId": "d8cbac4e-534d-46ce-d963-3a15a062a075"
      },
      "source": [
        "df.groupby('cardio')['age'].mean()"
      ],
      "execution_count": 12,
      "outputs": [
        {
          "output_type": "execute_result",
          "data": {
            "text/plain": [
              "cardio\n",
              "0    51.731218\n",
              "1    54.948083\n",
              "Name: age, dtype: float64"
            ]
          },
          "metadata": {
            "tags": []
          },
          "execution_count": 12
        }
      ]
    },
    {
      "cell_type": "code",
      "metadata": {
        "id": "Bc8LacbiXDnp",
        "colab_type": "code",
        "colab": {
          "base_uri": "https://localhost:8080/",
          "height": 282
        },
        "outputId": "1c639a99-cc29-4319-cccc-733ea12181ee"
      },
      "source": [
        "df.groupby('cardio')['age'].mean().plot(kind='bar') \n",
        "plt.ylabel('Age')\n",
        "plt.show();"
      ],
      "execution_count": 13,
      "outputs": [
        {
          "output_type": "display_data",
          "data": {
            "image/png": "[encoded data removed]",
            "text/plain": [
              "<Figure size 432x288 with 1 Axes>"
            ]
          },
          "metadata": {
            "tags": []
          }
        }
      ]
    },
    {
      "cell_type": "code",
      "metadata": {
        "id": "eaVWPjDNXDpt",
        "colab_type": "code",
        "colab": {
          "base_uri": "https://localhost:8080/",
          "height": 502
        },
        "outputId": "8abadd4a-2f26-4863-d684-cc342a7e4261"
      },
      "source": [
        "plt.figure(figsize=(15, 8)) \n",
        "sns.countplot(y='age', hue='cardio', data=df);\n",
        "# Кількість здорових і хворих пацієнтів за віковими групами."
      ],
      "execution_count": 14,
      "outputs": [
        {
          "output_type": "display_data",
          "data": {
            "image/png": "[encoded data removed]",
            "text/plain": [
              "<Figure size 1080x576 with 1 Axes>"
            ]
          },
          "metadata": {
            "tags": []
          }
        }
      ]
    },
    {
      "cell_type": "code",
      "metadata": {
        "id": "B2gJR80kW5hu",
        "colab_type": "code",
        "colab": {
          "base_uri": "https://localhost:8080/",
          "height": 268
        },
        "outputId": "66d6e614-3c3c-43a0-dbef-0b10410af962"
      },
      "source": [
        "plt.scatter(df['age'], df['height']);\n",
        "# Окремі значення в даних - це просто помилки введення."
      ],
      "execution_count": 15,
      "outputs": [
        {
          "output_type": "display_data",
          "data": {
            "image/png": "[encoded data removed]",
            "text/plain": [
              "<Figure size 432x288 with 1 Axes>"
            ]
          },
          "metadata": {
            "tags": []
          }
        }
      ]
    },
    {
      "cell_type": "code",
      "metadata": {
        "id": "vDsnA5jzXPU5",
        "colab_type": "code",
        "colab": {
          "base_uri": "https://localhost:8080/",
          "height": 437
        },
        "outputId": "ed5a04ed-7791-4692-d954-abded498271d"
      },
      "source": [
        "sns.jointplot(x='height', y='weight', data=df);\n",
        "# Помилки і аномалії в даних чітко видно і на цьому графіку. \n",
        "# Також можна зробити висновок, що без урахування похибок зріст і вага мають розподіл, близький до нормального."
      ],
      "execution_count": 16,
      "outputs": [
        {
          "output_type": "display_data",
          "data": {
            "image/png": "[encoded data removed]",
            "text/plain": [
              "<Figure size 432x432 with 3 Axes>"
            ]
          },
          "metadata": {
            "tags": []
          }
        }
      ]
    }
  ]
}